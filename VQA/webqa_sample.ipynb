{
 "cells": [
  {
   "cell_type": "code",
   "execution_count": 1,
   "metadata": {},
   "outputs": [
    {
     "name": "stderr",
     "output_type": "stream",
     "text": [
      "/opt/conda/envs/llavanext/lib/python3.10/site-packages/tqdm/auto.py:21: TqdmWarning: IProgress not found. Please update jupyter and ipywidgets. See https://ipywidgets.readthedocs.io/en/stable/user_install.html\n",
      "  from .autonotebook import tqdm as notebook_tqdm\n",
      "/opt/conda/envs/llavanext/lib/python3.10/site-packages/huggingface_hub/file_download.py:1142: FutureWarning: `resume_download` is deprecated and will be removed in version 1.0.0. Downloads always resume when possible. If you want to force a new download, use `force_download=True`.\n",
      "  warnings.warn(\n"
     ]
    }
   ],
   "source": [
    "\n",
    "from llava.model.builder import load_pretrained_model\n",
    "from llava.mm_utils import get_model_name_from_path, process_images, tokenizer_image_token\n",
    "from llava.constants import IMAGE_TOKEN_INDEX, DEFAULT_IMAGE_TOKEN, DEFAULT_IM_START_TOKEN, DEFAULT_IM_END_TOKEN, IGNORE_INDEX\n",
    "from llava.conversation import conv_templates, SeparatorStyle\n",
    "\n",
    "from PIL import Image\n",
    "import requests\n",
    "import copy\n",
    "import torch\n",
    "\n",
    "import sys\n",
    "import warnings\n",
    "\n",
    "warnings.filterwarnings(\"ignore\")"
   ]
  },
  {
   "cell_type": "code",
   "execution_count": 2,
   "metadata": {},
   "outputs": [],
   "source": [
    "import json\n",
    "\n",
    "dataset_dir = '/mnt/disks/data/webqa/WebQA_train_val.json'\n",
    "with open(dataset_dir, 'r') as f:\n",
    "    data = json.load(f)"
   ]
  },
  {
   "cell_type": "code",
   "execution_count": 3,
   "metadata": {},
   "outputs": [
    {
     "name": "stdout",
     "output_type": "stream",
     "text": [
      "2511\n"
     ]
    }
   ],
   "source": [
    "val_data = {}\n",
    "for id,dict in data.items():\n",
    "    if dict['Qcate'] == 'text':\n",
    "        continue\n",
    "    elif not dict['split'] == 'val':\n",
    "        continue\n",
    "    elif not len(dict['img_posFacts']) > 0:\n",
    "        continue\n",
    "    val_data[id] = dict\n",
    "\n",
    "print(len(val_data))\n"
   ]
  },
  {
   "cell_type": "code",
   "execution_count": 28,
   "metadata": {},
   "outputs": [],
   "source": [
    "from io import BytesIO\n",
    "import base64\n",
    "\n",
    "lineidx_dir = '/mnt/disks/data/webqa/imgs.lineidx'\n",
    "images_dir = '/mnt/disks/data/webqa/imgs.tsv'\n",
    "\n",
    "with open(lineidx_dir, \"r\") as fp_lineidx:\n",
    "    lineidx = [int(i.strip()) for i in fp_lineidx.readlines()]\n",
    "\n",
    "def read_image(image_id):\n",
    "    with open(images_dir, \"r\") as fp:\n",
    "        fp.seek(lineidx[int(image_id)%10000000])\n",
    "        imgid, img_base64 = fp.readline().strip().split('\\t')\n",
    "    assert int(image_id) == int(imgid), f'{image_id} {imgid}'\n",
    "    im = Image.open(BytesIO(base64.b64decode(img_base64)))\n",
    "    return im\n"
   ]
  },
  {
   "cell_type": "code",
   "execution_count": 26,
   "metadata": {},
   "outputs": [],
   "source": [
    "def get_multihop_prompt(ques, titles, captions):\n",
    "    question = f\"{DEFAULT_IMAGE_TOKEN} This is the first image.\\nTitle: {titles[0]}\\nCaption: {captions[0]}\\n\\nNow, let's look at another image: {DEFAULT_IMAGE_TOKEN} Title: {titles[1]}\\nCaption: {captions[1]}\\nRespond with the correct answer to the following question in a complete sentence. Question: {ques}\"\n",
    "    return question\n",
    "\n",
    "def get_si_prompt(ques, titles, captions):\n",
    "    question = f\"{DEFAULT_IMAGE_TOKEN} You have to answer a question about this image\\nTitle: {titles[0]}\\nCaption: {captions[0]}\\nRespond with the correct answer to the following question in a complete sentence. Question: {ques}\"\n",
    "    return question\n",
    "\n",
    "def get_answer(data, model, image_processor, tokenizer, max_len, device):\n",
    "    ques = data['Q']\n",
    "    images = []\n",
    "    titles = []\n",
    "    captions = []\n",
    "    for img in data['img_posFacts']:\n",
    "        images.append(read_image(img['image_id']))\n",
    "        titles.append(img['title'])\n",
    "        captions.append(img['caption'])\n",
    "    if len(images) == 2:\n",
    "        prompt = get_multihop_prompt(ques, titles, captions)\n",
    "    else:\n",
    "        prompt = get_si_prompt(ques, titles, captions)\n",
    "    image_tensors = process_images(images, image_processor, model.config)\n",
    "    image_tensors = [_image.to(dtype=torch.float16, device=device) for _image in image_tensors]\n",
    "    \n",
    "    conv_template = \"qwen_1_5\"\n",
    "    conv = copy.deepcopy(conv_templates[conv_template])\n",
    "    conv.append_message(conv.roles[0], prompt)\n",
    "    conv.append_message(conv.roles[1], None)\n",
    "    prompt_question = conv.get_prompt()\n",
    "\n",
    "    input_ids = tokenizer_image_token(prompt_question, tokenizer, IMAGE_TOKEN_INDEX, return_tensors=\"pt\").unsqueeze(0).to(device)\n",
    "    image_sizes = [image.size for image in images]\n",
    "    print(prompt_question)\n",
    "    # Generate response\n",
    "    cont = model.generate(\n",
    "        input_ids,\n",
    "        images=image_tensors,\n",
    "        image_sizes=image_sizes,\n",
    "        do_sample=False,\n",
    "        temperature=0,\n",
    "        max_new_tokens=4096,\n",
    "    )\n",
    "    text_outputs = tokenizer.batch_decode(cont, skip_special_tokens=True)\n",
    "    return text_outputs[0]"
   ]
  },
  {
   "cell_type": "code",
   "execution_count": 18,
   "metadata": {},
   "outputs": [
    {
     "name": "stdout",
     "output_type": "stream",
     "text": [
      "{'Q': '\"On which organ, are more round visible stop knobs installed; Western Cottage pump organ or Wurlitzer Model 44 Electrostatic Reed Organ?\"', 'A': ['\"The Western Cottage pump organ has more round visible stop knobs installed compared to the Wurlitzer Model 44 Electrostatic Reed Organ.\"'], 'topic': 'keyboard instruments', 'split': 'val', 'Qcate': 'choose', 'Guid': 'd5bbdefc0dba11ecb1e81171463288e9', 'img_posFacts': [{'image_id': 30086430, 'title': 'Western Cottage pump organ', 'caption': 'Western Cottage pump organ', 'url': 'https://commons.wikimedia.org/wiki/File:Western_Cottage_pump_organ.jpg', 'imgUrl': 'https://upload.wikimedia.org/wikipedia/commons/thumb/6/69/Western_Cottage_pump_organ.jpg/800px-Western_Cottage_pump_organ.jpg'}, {'image_id': 30077357, 'title': 'Wurlitzer Model 44 Electrostatic Reed Organ.png', 'caption': 'Wurlitzer Model 44 Electrostatic Reed Organ.png', 'url': 'https://commons.wikimedia.org/wiki/File:Wurlitzer_Model_44_Electrostatic_Reed_Organ.png', 'imgUrl': 'https://upload.wikimedia.org/wikipedia/commons/thumb/9/93/Wurlitzer_Model_44_Electrostatic_Reed_Organ.png/496px-Wurlitzer_Model_44_Electrostatic_Reed_Organ.png'}], 'img_negFacts': [{'image_id': 30004561, 'title': 'Wurlitzer 125 Band organ (1924), Pullen Park Carousel, Raleigh, NC', 'caption': 'Wurlitzer 125 Band organ (1924), Pullen Park Carousel, Raleigh, NC', 'url': 'https://commons.wikimedia.org/wiki/File:Wurlitzer_125_Band_organ_(1924)%2C_Pullen_Park_Carousel%2C_Raleigh%2C_NC.jpg', 'imgUrl': 'https://upload.wikimedia.org/wikipedia/commons/thumb/7/7b/Wurlitzer_125_Band_organ_%281924%29%2C_Pullen_Park_Carousel%2C_Raleigh%2C_NC.jpg/800px-Wurlitzer_125_Band_organ_%281924%29%2C_Pullen_Park_Carousel%2C_Raleigh%2C_NC.jpg'}, {'image_id': 30021279, 'title': 'Wurlitzer 4100 BW Electronic Spinet Organ (1959-1963)', 'caption': 'Wurlitzer 4100 BW Electronic Spinet Organ (1959-1963)', 'url': 'https://commons.wikimedia.org/wiki/File:Wurlitzer_4100_BW_Electronic_Spinet_Organ_(1959-1963).jpg', 'imgUrl': 'https://upload.wikimedia.org/wikipedia/commons/thumb/f/f9/Wurlitzer_4100_BW_Electronic_Spinet_Organ_%281959-1963%29.jpg/800px-Wurlitzer_4100_BW_Electronic_Spinet_Organ_%281959-1963%29.jpg'}, {'image_id': 30018177, 'title': 'Wurlitzer Funmaker 435', 'caption': 'Wurlitzer Funmaker 435', 'url': 'https://commons.wikimedia.org/wiki/File:Wurlitzer_Funmaker_435.jpg', 'imgUrl': 'https://upload.wikimedia.org/wikipedia/commons/thumb/7/7b/Wurlitzer_Funmaker_435.jpg/450px-Wurlitzer_Funmaker_435.jpg'}, {'image_id': 30354779, 'title': 'WLM electric organ', 'caption': 'WLM electric organ WLM electric organ, made in Finland between 1972 and 1984, with electronic sinewave generator(s), Hammond-like drawbars and Leslie rotating speaker(s).', 'url': 'https://commons.wikimedia.org/wiki/File:WLM_electric_organ.jpg', 'imgUrl': 'https://upload.wikimedia.org/wikipedia/commons/thumb/8/8a/WLM_electric_organ.jpg/320px-WLM_electric_organ.jpg'}, {'image_id': 30144491, 'title': \"Sunday School Organ in Barratt's Chapel Museum, Frederica, Delaware\", 'caption': \"Sunday School Organ in Barratt's Chapel Museum, Frederica, Delaware A 19th century reed organ with one rank of reeds designed to be easily portable\", 'url': 'https://commons.wikimedia.org/wiki/File:Sunday_School_Organ_in_Barratt%27s_Chapel_Museum%2C_Frederica%2C_Delaware.jpg', 'imgUrl': 'https://upload.wikimedia.org/wikipedia/commons/thumb/e/ea/Sunday_School_Organ_in_Barratt%27s_Chapel_Museum%2C_Frederica%2C_Delaware.jpg/714px-Sunday_School_Organ_in_Barratt%27s_Chapel_Museum%2C_Frederica%2C_Delaware.jpg'}, {'image_id': 30102705, 'title': 'Yamaha Electone A-55 front 2', 'caption': 'Yamaha Electone A-55 front 2', 'url': 'https://commons.wikimedia.org/wiki/File:Yamaha_Electone_A-55_front_2.jpg', 'imgUrl': 'http://upload.wikimedia.org/wikipedia/commons/2/25/Yamaha_Electone_A-55_front_2.jpg'}, {'image_id': 30074266, 'title': \"Burdett pump organ - Interior of Mary's Chapel, Historic Spanish Point (2015-04-21 15.14.34 by Walter)\", 'caption': \"Burdett pump organ - Interior of Mary's Chapel, Historic Spanish Point (2015-04-21 15.14.34 by Walter)\", 'url': 'https://commons.wikimedia.org/wiki/File:Burdett_pump_organ_-_Interior_of_Mary%27s_Chapel%2C_Historic_Spanish_Point_%282015-04-21_15.14.34_by_Walter%29.jpg', 'imgUrl': 'https://upload.wikimedia.org/wikipedia/commons/thumb/3/33/Burdett_pump_organ_-_Interior_of_Mary%27s_Chapel%2C_Historic_Spanish_Point_%282015-04-21_15.14.34_by_Walter%29.jpg/800px-Burdett_pump_organ_-_Interior_of_Mary%27s_Chapel%2C_Historic_Spanish_Point_%282015-04-21_15.14.34_by_Walter%29.jpg'}, {'image_id': 30094145, 'title': 'Story & Clark, Chicago, USA - pump reed organ (estimated ca. 1890s) - 2015-03-27 19.23.31 (by nepia infinity)', 'caption': 'Story & Clark, Chicago, USA - pump reed organ (estimated ca. 1890s) - 2015-03-27 19.23.31 (by nepia infinity)', 'url': 'https://commons.wikimedia.org/wiki/File:Story_%26_Clark%2C_Chicago%2C_USA_-_pump_reed_organ_%28estimated_ca._1890s%29_-_2015-03-27_19.23.31_%28by_nepia_infinity%29.jpg', 'imgUrl': 'https://upload.wikimedia.org/wikipedia/commons/thumb/6/69/Story_%26_Clark%2C_Chicago%2C_USA_-_pump_reed_organ_%28estimated_ca._1890s%29_-_2015-03-27_19.23.31_%28by_nepia_infinity%29.jpg/800px-Story_%26_Clark%2C_Chicago%2C_USA_-_pump_reed_organ_%28estimated_ca._1890s%29_-_2015-03-27_19.23.31_%28by_nepia_infinity%29.jpg'}, {'image_id': 30100604, 'title': 'Portable fortepiano (Orphica)', 'caption': 'Portable fortepiano (Orphica)  Example of portable fortepiano, sometimes called \"Orphica\" (Moscow, Glinka Museum) (XVII century)', 'url': 'https://commons.wikimedia.org/wiki/File:Portable_fortepiano_(Orphica).JPG', 'imgUrl': 'https://upload.wikimedia.org/wikipedia/commons/thumb/2/2a/Portable_fortepiano_(Orphica).JPG/1024px-Portable_fortepiano_(Orphica).JPG'}, {'image_id': 30062427, 'title': \"Ravenna, chiesa di San Rocco, consolle dell'organo\", 'caption': \"Ravenna, chiesa di San Rocco, consolle dell'organo\", 'url': 'https://commons.wikimedia.org/wiki/File:Ravenna%2C_chiesa_di_San_Rocco%2C_consolle_dell%27organo.jpg', 'imgUrl': 'https://upload.wikimedia.org/wikipedia/commons/thumb/e/ea/Ravenna%2C_chiesa_di_San_Rocco%2C_consolle_dell%27organo.jpg/1200px-Ravenna%2C_chiesa_di_San_Rocco%2C_consolle_dell%27organo.jpg'}, {'image_id': 30036763, 'title': \"Gaeta, chiesa di San Giacomo, consolle dell'organo a canne\", 'caption': \"Gaeta, chiesa di San Giacomo, consolle dell'organo a canne\", 'url': \"https://commons.wikimedia.org/wiki/File:Gaeta%2C_chiesa_di_San_Giacomo%2C_consolle_dell'organo_a_canne.jpg\", 'imgUrl': \"https://upload.wikimedia.org/wikipedia/commons/thumb/b/b2/Gaeta%2C_chiesa_di_San_Giacomo%2C_consolle_dell'organo_a_canne.jpg/510px-Gaeta%2C_chiesa_di_San_Giacomo%2C_consolle_dell'organo_a_canne.jpg\"}, {'image_id': 30319725, 'title': 'Siena, chiesa di San Vigilio - Organo positivo, consolle', 'caption': 'Siena, chiesa di San Vigilio - Organo positivo, consolle', 'url': 'https://commons.wikimedia.org/wiki/File:Siena%2C_chiesa_di_San_Vigilio_-_Organo_positivo%2C_consolle.jpg', 'imgUrl': 'https://upload.wikimedia.org/wikipedia/commons/thumb/f/f5/Siena%2C_chiesa_di_San_Vigilio_-_Organo_positivo%2C_consolle.jpg/800px-Siena%2C_chiesa_di_San_Vigilio_-_Organo_positivo%2C_consolle.jpg'}, {'image_id': 30112766, 'title': \"GEM Transistor Organ - Rikki's Refuge Re-Tail, 2014-09-12\", 'caption': \"GEM Transistor Organ - Rikki's Refuge Re-Tail, 2014-09-12\", 'url': \"https://commons.wikimedia.org/wiki/File:GEM_Transistor_Organ_-_Rikki's_Refuge_Re-Tail%2C_2014-09-12.jpg\", 'imgUrl': \"https://upload.wikimedia.org/wikipedia/commons/thumb/a/a1/GEM_Transistor_Organ_-_Rikki's_Refuge_Re-Tail%2C_2014-09-12.jpg/120px-GEM_Transistor_Organ_-_Rikki's_Refuge_Re-Tail%2C_2014-09-12.jpg\"}, {'image_id': 30154409, 'title': 'Physharmonica', 'caption': 'Physharmonica  A physharmonica from the first half of the 19th century in the collection of Organeum in Weener, Germany.', 'url': 'https://commons.wikimedia.org/wiki/File:Physharmonica.JPG', 'imgUrl': 'https://upload.wikimedia.org/wikipedia/commons/thumb/4/4c/Physharmonica.JPG/640px-Physharmonica.JPG'}, {'image_id': 30196728, 'title': \"Vittoria Apuana, chiesa di San Francesco - Consolle dell'organo a canne\", 'caption': \"Vittoria Apuana, chiesa di San Francesco - Consolle dell'organo a canne\", 'url': \"https://commons.wikimedia.org/wiki/File:Vittoria_Apuana%2C_chiesa_di_San_Francesco_-_Consolle_dell'organo_a_canne.jpg\", 'imgUrl': \"https://upload.wikimedia.org/wikipedia/commons/thumb/d/d8/Vittoria_Apuana%2C_chiesa_di_San_Francesco_-_Consolle_dell'organo_a_canne.jpg/768px-Vittoria_Apuana%2C_chiesa_di_San_Francesco_-_Consolle_dell'organo_a_canne.jpg\"}, {'image_id': 30268348, 'title': '2004.06.05 Gomnæsorgelet på Ringerikes Museum IV', 'caption': '2004.06.05 Gomnæsorgelet på Ringerikes Museum IV  The old organ built by a German organbuilder for Norderhov Church in 1727; and changed and moved to Tyristrand Church some time after 1861 by Anders Gulbrandsen Gomns.', 'url': 'https://commons.wikimedia.org/wiki/File:2004.06.05_Gomn%C3%A6sorgelet_p%C3%A5_Ringerikes_Museum_IV.JPG', 'imgUrl': 'https://upload.wikimedia.org/wikipedia/commons/thumb/6/68/2004.06.05_Gomn%C3%A6sorgelet_p%C3%A5_Ringerikes_Museum_IV.JPG/450px-2004.06.05_Gomn%C3%A6sorgelet_p%C3%A5_Ringerikes_Museum_IV.JPG'}], 'txt_negFacts': [{'title': 'Wurlitzer', 'fact': \"Among Wurlitzer's electronic instruments, beginning with electrostatic reed organs in 1947, the most important have been the fully electronic organs, especially the two-manual-and-pedals spinet type (from 1971 with synthesizer features) for domestic use. In the mid-1950s, Wurlitzer began manufacturing portable electric pianos.\", 'url': 'https://en.wikipedia.org/wiki/Wurlitzer', 'snippet_id': 'd5bbdefc0dba11ecb1e81171463288e9_6'}, {'title': 'Everett Piano Company', 'fact': 'Everett also pioneered the electrostatic reed organ, manufacturing the Orgatron brand from 1935 to 1941, before suspending production for World War II, transferring the business to the Rudolph Wurlitzer Company, and refocusing on pianos. In 1949, John A. Hens developed the dyna-tension scale.', 'url': 'https://en.wikipedia.org/wiki/Everett_Piano_Company', 'snippet_id': 'd5bbdefc0dba11ecb1e81171463288e9_5'}, {'title': 'Wurlitzer', 'fact': 'The Wurlitzer piano and organ brands and U.S. manufacturing facilities were acquired by the Baldwin Piano & Organ Co. (commonly called the Baldwin Piano Company) in 1988, and most piano manufacturing moved overseas. The Baldwin Co., including its Wurlitzer assets, was subsequently acquired by the Gibson Guitar Corporation in about 1996.', 'url': 'https://en.wikipedia.org/wiki/Wurlitzer', 'snippet_id': 'd5bbdefc0dba11ecb1e81171463288e9_12'}, {'title': 'Electrostatic pickup', 'fact': \"The shape, size and position of the fixed plate relative to the reed has an effect on the capacitance change as a function of the reed's instantaneous position during its travel. This allows different combinations of overtones to be generated from a single reed by placing several fixed plates in different locations, as seen in Wurlitzer electrostatic organs.\", 'url': 'https://en.wikipedia.org/wiki/Electrostatic_pickup', 'snippet_id': 'd5bbdefc0dba11ecb1e81171463288e9_4'}, {'title': 'List of Yamaha Corporation products', 'fact': 'Magna organ seems to be a multi-timbral keyboard instrument based on electrically blown free reeds with pickups, and possibly similar to the electrostatic reed organs developed by Frederick Albert Hoschke in 1934 then manufactured by Everett and Wurlitzer until 1961.', 'url': 'https://en.wikipedia.org/wiki/List_of_Yamaha_Corporation_products', 'snippet_id': 'd5bbdefc0dba11ecb1e81171463288e9_13'}, {'title': 'Electric organ', 'fact': 'Independently in Japan, a Yamaha engineer, Mr. Yamashita, invented the Magna Organ in 1935. It is a multi-timbral keyboard instrument based on electrically blown free reeds with pickups, similar to the electrostatic reed organ developed by Hoschke a year earlier.', 'url': 'https://en.wikipedia.org/wiki/Electric_organ', 'snippet_id': 'd5bbdefc0dba11ecb1e81171463288e9_7'}, {'title': 'Wurlitzer', 'fact': \"Wurlitzer's jukebox operations were sold and moved to Germany in 1973. The Wurlitzer piano and organ brands and U.S. manufacturing facilities were acquired by the Baldwin Piano & Organ Co. (commonly called the Baldwin Piano Company) in 1988, and most piano manufacturing moved overseas.\", 'url': 'https://en.wikipedia.org/wiki/Wurlitzer', 'snippet_id': 'd5bbdefc0dba11ecb1e81171463288e9_15'}, {'title': 'Everett Piano Company', 'fact': 'Everett also pioneered the electrostatic reed organ, manufacturing the Orgatron brand from 1935 to 1941, before suspending production for World War II, transferring the business to the Rudolph Wurlitzer Company, and refocusing on pianos.', 'url': 'https://en.wikipedia.org/wiki/Everett_Piano_Company', 'snippet_id': 'd5bbdefc0dba11ecb1e81171463288e9_10'}, {'title': 'History of science and technology in Japan', 'fact': 'Electronic organYamaha engineer Mr. Yamashita invented the Yamaha Magna Organ in 1935. It was an electrostatic reed organ, a multi-timbral keyboard instrument based on electrically blown free reeds with pickups.', 'url': 'https://en.wikipedia.org/wiki/History_of_science_and_technology_in_Japan', 'snippet_id': 'd5bbdefc0dba11ecb1e81171463288e9_1'}, {'title': 'Wurlitzer', 'fact': \"Among Wurlitzer's electronic instruments, beginning with electrostatic reed organs in 1947, the most important have been the fully electronic organs, especially the two-manual-and-pedals spinet type (from 1971 with synthesizer features) for domestic use.\", 'url': 'https://en.wikipedia.org/wiki/Wurlitzer', 'snippet_id': 'd5bbdefc0dba11ecb1e81171463288e9_9'}, {'title': 'History of science and technology in Japan', 'fact': 'Yamaha engineer Mr. Yamashita invented the Yamaha Magna Organ in 1935. It was an electrostatic reed organ, a multi-timbral keyboard instrument based on electrically blown free reeds with pickups.', 'url': 'https://en.wikipedia.org/wiki/History_of_science_and_technology_in_Japan', 'snippet_id': 'd5bbdefc0dba11ecb1e81171463288e9_2'}, {'title': 'Electrostatic pickup', 'fact': 'This allows different combinations of overtones to be generated from a single reed by placing several fixed plates in different locations, as seen in Wurlitzer electrostatic organs.', 'url': 'https://en.wikipedia.org/wiki/Electrostatic_pickup', 'snippet_id': 'd5bbdefc0dba11ecb1e81171463288e9_14'}, {'title': 'Electrostatic pickup', 'fact': 'The electrostatic pickup used in the Hohner Pianet N electric piano has a fixed plate mounted at a 90 degree angle to the reed, while the fixed plates used in Wurlitzer electrostatic organs are parallel to the reed.', 'url': 'https://en.wikipedia.org/wiki/Electrostatic_pickup', 'snippet_id': 'd5bbdefc0dba11ecb1e81171463288e9_8'}, {'title': \"Tipu's Tiger\", 'fact': 'The two stop control knobs for the organ are located, \"rather confusingly\", a little below the tiger\\'s testicles. The instrument is now rarely played, but there is a V&A video of a recent performance.', 'url': \"https://en.wikipedia.org/wiki/Tipu's_Tiger\", 'snippet_id': 'd5bbdefc0dba11ecb1e81171463288e9_11'}, {'title': 'Chord organ', 'fact': \"An additional Chord Organ was manufactured for a brief time in the mid-'60s (the 2000 series), which had a simplified chord panel (Major, Minor, 7th and Diminished chords only) and traditional organ-type voices for the right-hand keyboard.   This model also used solid-state circuitry.\", 'url': 'https://en.wikipedia.org/wiki/Chord_organ', 'snippet_id': 'd5bbdefc0dba11ecb1e81171463288e9_3'}, {'title': 'Theatre organ', 'fact': \"GENPO uses buttons rather than tongue-tab icons to represent the stop switches, this allows more stops to be shown in an equivalent amount of video display screen 'real-estate'. MidiTzer, on the other hand, aims to recreate a visual layout similar to a Wurlitzer theatre organ.\", 'url': 'https://en.wikipedia.org/wiki/Theatre_organ', 'snippet_id': 'd5bbdefc0dba11ecb1e81171463288e9_0'}], 'txt_posFacts': []}\n",
      "{'Q': '\"Does only one room in Graceland have light fixtures that hang from the ceiling?\"', 'A': ['\"More than one room in Graceland has light fixtures that hang from the ceiling.\"'], 'topic': 'tourist attractions', 'split': 'val', 'Qcate': 'YesNo', 'Guid': 'd5bbe3de0dba11ecb1e81171463288e9', 'img_posFacts': [{'image_id': 30379311, 'title': 'Music Room in Graceland, the home of Elvis Presley', 'caption': 'Music Room in Graceland, the home of Elvis Presley Entering Graceland, the music room, adjacent to the living room, is one of the first rooms tourists see. A grand piano and a television are prominent features of the music room.', 'url': 'https://commons.wikimedia.org/wiki/File:Music_Room_in_Graceland%2C_the_home_of_Elvis_Presley.jpg', 'imgUrl': 'https://upload.wikimedia.org/wikipedia/commons/thumb/d/da/Music_Room_in_Graceland%2C_the_home_of_Elvis_Presley.jpg/800px-Music_Room_in_Graceland%2C_the_home_of_Elvis_Presley.jpg'}, {'image_id': 30185936, 'title': 'TrophyRoom', 'caption': 'TrophyRoom Records in Elvis Trophy Room', 'url': 'https://commons.wikimedia.org/wiki/File:TrophyRoom.jpg', 'imgUrl': 'https://upload.wikimedia.org/wikipedia/commons/thumb/7/77/TrophyRoom.jpg/800px-TrophyRoom.jpg'}], 'img_negFacts': [{'image_id': 30335846, 'title': 'Rear view of Graceland, the home of Elvis Presley', 'caption': 'Rear view of Graceland, the home of Elvis Presley Graceland was the home of Elvis Presley. This is a view from behind the house.', 'url': 'https://commons.wikimedia.org/wiki/File:Rear_view_of_Graceland%2C_the_home_of_Elvis_Presley.jpg', 'imgUrl': 'https://upload.wikimedia.org/wikipedia/commons/thumb/c/c6/Rear_view_of_Graceland%2C_the_home_of_Elvis_Presley.jpg/800px-Rear_view_of_Graceland%2C_the_home_of_Elvis_Presley.jpg'}, {'image_id': 30080971, 'title': 'Elvis Aaron Presley (1935 - 1977),Graceland (5865489484)', 'caption': 'Elvis Aaron Presley (1935 - 1977),Graceland (5865489484)', 'url': 'https://commons.wikimedia.org/wiki/File:Elvis_Aaron_Presley_(1935_-_1977)%2CGraceland_(5865489484).jpg', 'imgUrl': 'https://upload.wikimedia.org/wikipedia/commons/thumb/d/d5/Elvis_Aaron_Presley_%281935_-_1977%29%2CGraceland_%285865489484%29.jpg/404px-Elvis_Aaron_Presley_%281935_-_1977%29%2CGraceland_%285865489484%29.jpg'}, {'image_id': 30013463, 'title': 'Graceland mansion IMG 2866', 'caption': \"Graceland mansion IMG 2866 Image from Elvis Presley's home Graceland in Memphis, TN. July, 2018.\", 'url': 'https://commons.wikimedia.org/wiki/File:Graceland_mansion_IMG_2866.jpg', 'imgUrl': 'https://upload.wikimedia.org/wikipedia/commons/thumb/e/e1/Graceland_mansion_IMG_2866.jpg/800px-Graceland_mansion_IMG_2866.jpg'}, {'image_id': 30072404, 'title': 'Rear of Graceland Mansion - Elvis Presley Mansion - Memphis - Tennessee - USA', 'caption': 'Rear of Graceland Mansion - Elvis Presley Mansion - Memphis - Tennessee - USA Rear of Graceland Mansion - Elvis Presley Mansion - Memphis - Tennessee - USA', 'url': 'https://commons.wikimedia.org/wiki/File:Rear_of_Graceland_Mansion_-_Elvis_Presley_Mansion_-_Memphis_-_Tennessee_-_USA.jpg', 'imgUrl': 'https://upload.wikimedia.org/wikipedia/commons/thumb/2/29/Rear_of_Graceland_Mansion_-_Elvis_Presley_Mansion_-_Memphis_-_Tennessee_-_USA.jpg/800px-Rear_of_Graceland_Mansion_-_Elvis_Presley_Mansion_-_Memphis_-_Tennessee_-_USA.jpg'}, {'image_id': 30015705, 'title': '\"The heavy timber struts between the sheet steel walls in section \\'F.\\' Excavation to bedrock, 60 feet deep, is going... - NARA - 294000.tif', 'caption': '\"The heavy timber struts between the sheet steel walls in section \\'F.\\' Excavation to bedrock, 60 feet deep, is going... - NARA - 294000.tif', 'url': \"https://commons.wikimedia.org/wiki/File:%22The_heavy_timber_struts_between_the_sheet_steel_walls_in_section_'F.'_Excavation_to_bedrock%2C_60_feet_deep%2C_is_going..._-_NARA_-_294000.tif\", 'imgUrl': \"https://upload.wikimedia.org/wikipedia/commons/thumb/2/29/%22The_heavy_timber_struts_between_the_sheet_steel_walls_in_section_'F.'_Excavation_to_bedrock%2C_60_feet_deep%2C_is_going..._-_NARA_-_294000.tif/lossy-page1-470px-%22The_heavy_timber_struts_between_the_sheet_steel_walls_in_section_'F.'_Excavation_to_bedrock%2C_60_feet_deep%2C_is_going..._-_NARA_-_294000.tif.jpg\"}, {'image_id': 30174633, 'title': 'Rochdale Railway Station - geograph.org.uk - 286071', 'caption': 'Rochdale Railway Station - geograph.org.uk - 286071 Rochdale Railway Station Looking from Tweedale Street. A train is waiting on one of the platforms and many white taxis are waiting outside.', 'url': 'https://commons.wikimedia.org/wiki/File:Rochdale_Railway_Station_-_geograph.org.uk_-_286071.jpg', 'imgUrl': 'https://upload.wikimedia.org/wikipedia/commons/1/1a/Rochdale_Railway_Station_-_geograph.org.uk_-_286071.jpg'}, {'image_id': 30255451, 'title': 'Decorative arts in the Louvre - Room 43 D201903 b', 'caption': 'Decorative arts in the Louvre - Room 43 D201903 b', 'url': 'https://commons.wikimedia.org/wiki/File:Decorative_arts_in_the_Louvre_-_Room_43_D201903_b.jpg', 'imgUrl': 'https://upload.wikimedia.org/wikipedia/commons/thumb/2/23/Decorative_arts_in_the_Louvre_-_Room_43_D201903_b.jpg/1200px-Decorative_arts_in_the_Louvre_-_Room_43_D201903_b.jpg'}, {'image_id': 30185632, 'title': 'Plaza de Legazpi', 'caption': 'Plaza de Legazpi', 'url': 'https://commons.wikimedia.org/wiki/File:Plaza_de_Legazpi.jpg', 'imgUrl': 'https://upload.wikimedia.org/wikipedia/commons/thumb/7/71/Plaza_de_Legazpi.jpg/800px-Plaza_de_Legazpi.jpg'}, {'image_id': 30335329, 'title': 'Marble Palace,Kolkata,West Bengal', 'caption': 'Marble Palace,Kolkata,West Bengal', 'url': 'https://commons.wikimedia.org/wiki/File:Marble_Palace%2CKolkata%2CWest_Bengal.jpg', 'imgUrl': 'https://upload.wikimedia.org/wikipedia/commons/5/5e/Marble_Palace%2CKolkata%2CWest_Bengal.jpg'}, {'image_id': 30261506, 'title': 'Neptune Society Columbarium - 2012 - 003', 'caption': 'Neptune Society Columbarium - 2012 - 003 Neptune Society Columbarium of San Francisco, in February 2012.', 'url': 'https://commons.wikimedia.org/wiki/File:Neptune_Society_Columbarium_-_2012_-_003.jpg', 'imgUrl': 'http://upload.wikimedia.org/wikipedia/commons/thumb/b/bf/Neptune_Society_Columbarium_-_2012_-_003.jpg/1280px-Neptune_Society_Columbarium_-_2012_-_003.jpg'}, {'image_id': 30345124, 'title': 'Mary Plantation House Upstairs Interior Attic Trapdoor', 'caption': 'Mary Plantation House Upstairs Interior Attic Trapdoor', 'url': 'https://commons.wikimedia.org/wiki/File:Mary_Plantation_House_Upstairs_Interior_Attic_Trapdoor.JPG', 'imgUrl': 'https://upload.wikimedia.org/wikipedia/commons/thumb/3/3c/Mary_Plantation_House_Upstairs_Interior_Attic_Trapdoor.JPG/450px-Mary_Plantation_House_Upstairs_Interior_Attic_Trapdoor.JPG'}, {'image_id': 30270597, 'title': 'Ikea 2009, a', 'caption': 'Ikea 2009, a', 'url': 'https://commons.wikimedia.org/wiki/File:Ikea_2009%2C_a.jpg', 'imgUrl': 'https://upload.wikimedia.org/wikipedia/commons/thumb/e/e0/Ikea_2009%2C_a.jpg/800px-Ikea_2009%2C_a.jpg'}, {'image_id': 30000155, 'title': 'Split-Level Houses in Gang Mills 12', 'caption': 'Split-Level Houses in Gang Mills 12 Bi-Level-Split', 'url': 'https://commons.wikimedia.org/wiki/File:Split-Level_Houses_in_Gang_Mills_12.jpg', 'imgUrl': 'https://upload.wikimedia.org/wikipedia/commons/4/4c/Split-Level_Houses_in_Gang_Mills_12.jpg'}, {'image_id': 30202402, 'title': 'IKEA furniture display in HK Homesquare 2018', 'caption': 'IKEA furniture display in HK Homesquare 2018', 'url': 'https://commons.wikimedia.org/wiki/File:IKEA_furniture_display_in_HK_Homesquare_2018.JPG', 'imgUrl': 'https://upload.wikimedia.org/wikipedia/commons/thumb/d/db/IKEA_furniture_display_in_HK_Homesquare_2018.JPG/800px-IKEA_furniture_display_in_HK_Homesquare_2018.JPG'}, {'image_id': 30113320, 'title': 'Museum Supermarket in Multi Süd Leer 01', 'caption': 'Museum Supermarket in Multi Süd Leer 01', 'url': 'https://commons.wikimedia.org/wiki/File:Museum_Supermarket_in_Multi_S%C3%BCd_Leer_01.JPG', 'imgUrl': 'http://upload.wikimedia.org/wikipedia/commons/e/e5/Museum_Supermarket_in_Multi_S%C3%BCd_Leer_01.JPG'}, {'image_id': 30197369, 'title': 'Red bedroom', 'caption': 'Red bedroom', 'url': 'https://commons.wikimedia.org/wiki/File:Red_bedroom.jpg', 'imgUrl': 'https://upload.wikimedia.org/wikipedia/commons/thumb/d/d3/Red_bedroom.jpg/800px-Red_bedroom.jpg'}], 'txt_negFacts': [{'title': 'Light fixture', 'fact': 'Ceiling Dome – Also called the light source(s) are hidden behind a translucent dome typically made of glass, with some combination of frosting and surface texturing to diffuse the light. These can be flush-mount fixtures mounted into the ceiling, or semi-flush fixtures separated by a small distance (usually about 3–12\").', 'url': 'https://en.wikipedia.org/wiki/Light_fixture', 'snippet_id': 'd5bbe3de0dba11ecb1e81171463288e9_1'}, {'title': \"A Room of One's Own\", 'fact': 'Woolf wrote in her diary before A Room of One\\'s Own was published that she thought when it was published she would be \"attacked for a feminist & hinted at for a sapphist\".', 'url': \"https://en.wikipedia.org/wiki/A_Room_of_One's_Own\", 'snippet_id': 'd5bbe3de0dba11ecb1e81171463288e9_6'}, {'title': 'Light pollution', 'fact': 'Since not everyone is irritated by the same lighting sources, it is common for one person\\'s light \"pollution\" to be light that is desirable for another.', 'url': 'https://en.wikipedia.org/wiki/Light_pollution', 'snippet_id': 'd5bbe3de0dba11ecb1e81171463288e9_8'}, {'title': 'Light pollution', 'fact': 'Since not everyone is irritated by the same lighting sources, it is common for one person\\'s light \"pollution\" to be light that is desirable for another. One example of this is found in advertising, when an advertiser wishes for particular lights to be bright and visible, even though others find them annoying.', 'url': 'https://en.wikipedia.org/wiki/Light_pollution', 'snippet_id': 'd5bbe3de0dba11ecb1e81171463288e9_7'}, {'title': 'Lighting', 'fact': 'Downlighting is most common, with fixtures on or recessed in the ceiling casting light downward. This tends to be the most used method, used in both offices and homes.', 'url': 'https://en.wikipedia.org/wiki/Lighting', 'snippet_id': 'd5bbe3de0dba11ecb1e81171463288e9_13'}, {'title': 'Light fixture', 'fact': 'Fixtures may also have a switch to control the light, either attached to the lamp body or attached to the power cable. Permanent light fixtures, such as dining room chandeliers, may have no switch on the fixture itself, but rely on a wall switch.', 'url': 'https://en.wikipedia.org/wiki/Light_fixture', 'snippet_id': 'd5bbe3de0dba11ecb1e81171463288e9_11'}, {'title': 'Light fixture', 'fact': 'Permanent light fixtures, such as dining room chandeliers, may have no switch on the fixture itself, but rely on a wall switch.', 'url': 'https://en.wikipedia.org/wiki/Light_fixture', 'snippet_id': 'd5bbe3de0dba11ecb1e81171463288e9_3'}, {'title': 'Light fixture', 'fact': 'All light fixtures have a fixture body and one or more lamps. The lamps may be in sockets for easy replacement—or, in the case of some LED fixtures, hard-wired in place.', 'url': 'https://en.wikipedia.org/wiki/Light_fixture', 'snippet_id': 'd5bbe3de0dba11ecb1e81171463288e9_10'}, {'title': 'Light fixture', 'fact': 'Outdoor light fixtures can also include forms similar to indoor lighting, such as pendants, flush or close-to-ceiling light fixtures, wall-mounted lanterns and dome lights.', 'url': 'https://en.wikipedia.org/wiki/Light_fixture', 'snippet_id': 'd5bbe3de0dba11ecb1e81171463288e9_9'}, {'title': 'Light fixture', 'fact': 'A light fixture (US English), light fitting (UK English), or luminaire is an electrical device containing an electric lamp that provides illumination. All light fixtures have a fixture body and one or more lamps.', 'url': 'https://en.wikipedia.org/wiki/Light_fixture', 'snippet_id': 'd5bbe3de0dba11ecb1e81171463288e9_4'}, {'title': 'Graceland University', 'fact': 'The School of Nursing is one of Graceland’s most popular programs. The School of Nursing offers classes on the Independence Campus and online.', 'url': 'https://en.wikipedia.org/wiki/Graceland_University', 'snippet_id': 'd5bbe3de0dba11ecb1e81171463288e9_0'}, {'title': 'Lighting', 'fact': 'Further interior light fixtures include chandeliers, pendant lights, ceiling fans with lights, close-to-ceiling or flush lights, and various types of lampsThe portable or table lamp is probably the most common fixture, found in many homes and offices.', 'url': 'https://en.wikipedia.org/wiki/Lighting', 'snippet_id': 'd5bbe3de0dba11ecb1e81171463288e9_5'}, {'title': 'Light pollution', 'fact': 'Light trespass can be reduced by selecting light fixtures that limit the amount of light emitted more than 80° above the nadir. The IESNA definitions include full cutoff (0%), cutoff (10%), and semi-cutoff (20%).', 'url': 'https://en.wikipedia.org/wiki/Light_pollution', 'snippet_id': 'd5bbe3de0dba11ecb1e81171463288e9_2'}, {'title': 'Light fixture', 'fact': 'Light fixtures may also have other features, such as reflectors for directing the light, an aperture (with or without a lens), an outer shell or housing for lamp alignment and protection, an electrical ballast or power supply, and a shade to diffuse the light or direct it towards a workspace (e.g., a desk lamp).', 'url': 'https://en.wikipedia.org/wiki/Light_fixture', 'snippet_id': 'd5bbe3de0dba11ecb1e81171463288e9_15'}, {'title': 'Light pollution', 'fact': 'Light trespass can be reduced by selecting light fixtures that limit the amount of light emitted more than 80° above the nadir.', 'url': 'https://en.wikipedia.org/wiki/Light_pollution', 'snippet_id': 'd5bbe3de0dba11ecb1e81171463288e9_12'}, {'title': 'The Room', 'fact': 'The stage play from which the film is derived was so-called due to its events taking place entirely in a single room. A number of publications have labeled The Room as one of the worst films ever made.', 'url': 'https://en.wikipedia.org/wiki/The_Room', 'snippet_id': 'd5bbe3de0dba11ecb1e81171463288e9_14'}], 'txt_posFacts': []}\n",
      "{'Q': '\"Are the colors of the word lyric different in the Lyric Theater, Blacksburg and Lyric Theater, Georgia signs?\"', 'A': ['\"No, the colors are not different.\"'], 'topic': 'civic center', 'split': 'val', 'Qcate': 'YesNo', 'Guid': 'd5bbf1da0dba11ecb1e81171463288e9', 'img_posFacts': [{'image_id': 30144370, 'title': 'Lyric Theater, Blacksburg', 'caption': 'Lyric Theater, Blacksburg Lyric Movie Theater, Downtown, Blacksburg, Virginia, USA', 'url': 'https://commons.wikimedia.org/wiki/File:Lyric_Theater%2C_Blacksburg.jpg', 'imgUrl': 'https://upload.wikimedia.org/wikipedia/commons/thumb/5/5e/Lyric_Theater%2C_Blacksburg.jpg/800px-Lyric_Theater%2C_Blacksburg.jpg'}, {'image_id': 30304233, 'title': 'Lyric Theater, Waycross Historic District, GA, US', 'caption': 'Lyric Theater, Waycross Historic District, GA, US Lyric Theater, Waycross Historic District, Georgia, US', 'url': 'https://commons.wikimedia.org/wiki/File:Lyric_Theater%2C_Waycross_Historic_District%2C_GA%2C_US.jpg', 'imgUrl': 'https://upload.wikimedia.org/wikipedia/commons/thumb/2/2b/Lyric_Theater%2C_Waycross_Historic_District%2C_GA%2C_US.jpg/800px-Lyric_Theater%2C_Waycross_Historic_District%2C_GA%2C_US.jpg'}], 'img_negFacts': [{'image_id': 30091887, 'title': 'The Lyric Theatre, Belfast', 'caption': 'The Lyric Theatre, Belfast This is an image of the front entrance of the Lyric Theatre, Belfast', 'url': 'https://commons.wikimedia.org/wiki/File:The_Lyric_Theatre%2C_Belfast.jpg', 'imgUrl': 'https://upload.wikimedia.org/wikipedia/commons/thumb/7/71/The_Lyric_Theatre%2C_Belfast.jpg/338px-The_Lyric_Theatre%2C_Belfast.jpg'}, {'image_id': 30005802, 'title': 'The stage and the stalls seen from the main balcony, Lyric Theatre, Brisbane 02', 'caption': 'The stage and the stalls seen from the main balcony, Lyric Theatre, Brisbane 02 The stage and the stalls seen from the main balcony, Lyric Theatre, Brisbane', 'url': 'https://commons.wikimedia.org/wiki/File:The_stage_and_the_stalls_seen_from_the_main_balcony%2C_Lyric_Theatre%2C_Brisbane_02.jpg', 'imgUrl': 'https://upload.wikimedia.org/wikipedia/commons/thumb/5/5f/The_stage_and_the_stalls_seen_from_the_main_balcony%2C_Lyric_Theatre%2C_Brisbane_02.jpg/800px-The_stage_and_the_stalls_seen_from_the_main_balcony%2C_Lyric_Theatre%2C_Brisbane_02.jpg'}, {'image_id': 30306265, 'title': 'Ny-lyric-theatre', 'caption': 'Ny-lyric-theatre Lyric Theatre, New York, 43rd St. entrance.', 'url': 'https://commons.wikimedia.org/wiki/File:Ny-lyric-theatre.jpg', 'imgUrl': 'https://upload.wikimedia.org/wikipedia/commons/thumb/b/b2/Ny-lyric-theatre.jpg/450px-Ny-lyric-theatre.jpg'}, {'image_id': 30026168, 'title': 'SL-ViewFromStage-After', 'caption': 'SL-ViewFromStage-After Sydney Lyric Theatre, post February 2017 renovation. Photo taken from stage by Sydney Lyric Theatre.', 'url': 'https://commons.wikimedia.org/wiki/File:SL-ViewFromStage-After.jpg', 'imgUrl': 'https://upload.wikimedia.org/wikipedia/commons/thumb/3/3f/SL-ViewFromStage-After.jpg/800px-SL-ViewFromStage-After.jpg'}, {'image_id': 30034221, 'title': 'Waycross City Hall (NE corner)', 'caption': 'Waycross City Hall (NE corner)  Waycross, Ware County, Georgia', 'url': 'https://commons.wikimedia.org/wiki/File:Waycross_City_Hall_(NE_corner).JPG', 'imgUrl': 'https://upload.wikimedia.org/wikipedia/commons/thumb/6/67/Waycross_City_Hall_%28NE_corner%29.JPG/800px-Waycross_City_Hall_%28NE_corner%29.JPG'}, {'image_id': 30106326, 'title': 'SL-SideViewFromDressCircle', 'caption': 'SL-SideViewFromDressCircle Sydney Lyric Theatre, May 2017', 'url': 'https://commons.wikimedia.org/wiki/File:SL-SideViewFromDressCircle.jpg', 'imgUrl': 'https://upload.wikimedia.org/wikipedia/commons/thumb/3/3a/SL-SideViewFromDressCircle.jpg/800px-SL-SideViewFromDressCircle.jpg'}, {'image_id': 30029190, 'title': 'Zachary House, Waycross Historic District', 'caption': 'Zachary House, Waycross Historic District  Zachary House, Waycross Historic District, Waycross, Ware County, Georgia', 'url': 'https://commons.wikimedia.org/wiki/File:Zachary_House%2C_Waycross_Historic_District.JPG', 'imgUrl': 'https://upload.wikimedia.org/wikipedia/commons/thumb/d/da/Zachary_House%2C_Waycross_Historic_District.JPG/800px-Zachary_House%2C_Waycross_Historic_District.JPG'}, {'image_id': 30271444, 'title': 'Waycross, Georgia Historic District (25)', 'caption': 'Waycross, Georgia Historic District (25)', 'url': 'https://commons.wikimedia.org/wiki/File:Waycross%2C_Georgia_Historic_District_(25).jpg', 'imgUrl': 'https://upload.wikimedia.org/wikipedia/commons/thumb/f/fb/Waycross%2C_Georgia_Historic_District_%2825%29.jpg/800px-Waycross%2C_Georgia_Historic_District_%2825%29.jpg'}, {'image_id': 30245094, 'title': 'Waycross, Georgia Historic District (10)', 'caption': 'Waycross, Georgia Historic District (10)', 'url': 'https://commons.wikimedia.org/wiki/File:Waycross%2C_Georgia_Historic_District_(10).jpg', 'imgUrl': 'https://upload.wikimedia.org/wikipedia/commons/thumb/4/48/Waycross%2C_Georgia_Historic_District_%2810%29.jpg/800px-Waycross%2C_Georgia_Historic_District_%2810%29.jpg'}, {'image_id': 30086978, 'title': 'Waycross, Georgia Historic District (19)', 'caption': 'Waycross, Georgia Historic District (19)', 'url': 'https://commons.wikimedia.org/wiki/File:Waycross%2C_Georgia_Historic_District_(19).jpg', 'imgUrl': 'https://upload.wikimedia.org/wikipedia/commons/thumb/8/8f/Waycross%2C_Georgia_Historic_District_(19).jpg/1200px-Waycross%2C_Georgia_Historic_District_(19).jpg'}, {'image_id': 30349492, 'title': 'Waycross, Georgia Historic District (19)', 'caption': 'Waycross, Georgia Historic District (19)', 'url': 'https://commons.wikimedia.org/wiki/File:Waycross%2C_Georgia_Historic_District_(19).jpg', 'imgUrl': 'https://upload.wikimedia.org/wikipedia/commons/thumb/8/8f/Waycross%2C_Georgia_Historic_District_%2819%29.jpg/800px-Waycross%2C_Georgia_Historic_District_%2819%29.jpg'}, {'image_id': 30093650, 'title': 'Nicholas Koester Bldg, Davenport, Iowa', 'caption': 'Nicholas Koester Bldg, Davenport, Iowa The Nicholas Koester Building is located in Davenport, Iowa and is listed on the National Register of Historic Places.', 'url': 'https://commons.wikimedia.org/wiki/File:Nicholas_Koester_Bldg%2C_Davenport%2C_Iowa.jpg', 'imgUrl': 'https://upload.wikimedia.org/wikipedia/commons/thumb/d/d0/Nicholas_Koester_Bldg%2C_Davenport%2C_Iowa.jpg/800px-Nicholas_Koester_Bldg%2C_Davenport%2C_Iowa.jpg'}, {'image_id': 30333980, 'title': 'Rassemblement en mémoire de Clément Méric, Paris, 6 juin 2013 002', 'caption': 'Rassemblement en mémoire de Clément Méric, Paris, 6 juin 2013 002', 'url': 'https://commons.wikimedia.org/wiki/File:Rassemblement_en_m%C3%A9moire_de_Cl%C3%A9ment_M%C3%A9ric%2C_Paris%2C_6_juin_2013_002.JPG', 'imgUrl': 'https://upload.wikimedia.org/wikipedia/commons/thumb/4/44/Rassemblement_en_m%C3%A9moire_de_Cl%C3%A9ment_M%C3%A9ric%2C_Paris%2C_6_juin_2013_002.JPG/640px-Rassemblement_en_m%C3%A9moire_de_Cl%C3%A9ment_M%C3%A9ric%2C_Paris%2C_6_juin_2013_002.JPG'}, {'image_id': 30277314, 'title': 'The lyric hammersmith', 'caption': 'The lyric hammersmith', 'url': 'https://commons.wikimedia.org/wiki/File:The_lyric_hammersmith.jpg', 'imgUrl': 'https://upload.wikimedia.org/wikipedia/commons/8/86/The_lyric_hammersmith.jpg'}, {'image_id': 30242072, 'title': 'Castlewellan road sign, May 2010 (01)', 'caption': 'Castlewellan road sign, May 2010 (01)  Road sign on Mill Hill, Castlewellan, County Down, Northern Ireland, May 2010', 'url': 'https://commons.wikimedia.org/wiki/File:Castlewellan_road_sign%2C_May_2010_(01).JPG', 'imgUrl': 'https://upload.wikimedia.org/wikipedia/commons/thumb/6/6e/Castlewellan_road_sign%2C_May_2010_(01).JPG/320px-Castlewellan_road_sign%2C_May_2010_(01).JPG'}, {'image_id': 30303613, 'title': 'Hillyer Hall - Smith College - Northampton, MA - DSC02123', 'caption': 'Hillyer Hall - Smith College - Northampton, MA - DSC02123 Hillyer Hall - Smith College - Northampton, Massachusetts, USA.', 'url': 'https://commons.wikimedia.org/wiki/File:Hillyer_Hall_-_Smith_College_-_Northampton%2C_MA_-_DSC02123.jpg', 'imgUrl': 'https://upload.wikimedia.org/wikipedia/commons/thumb/2/20/Hillyer_Hall_-_Smith_College_-_Northampton%2C_MA_-_DSC02123.jpg/1024px-Hillyer_Hall_-_Smith_College_-_Northampton%2C_MA_-_DSC02123.jpg'}], 'txt_negFacts': [{'title': 'Lyric Theater (Miami)', 'fact': 'The 400-seat theater was built, owned and operated by Geder Walker, a black man from Georgia. In 1915, The Miami News described the Lyric Theater as, \"possibly the most beautiful and costly playhouse owned by Colored people in all the Southland.\"', 'url': 'https://en.wikipedia.org/wiki/Lyric_Theater_(Miami)', 'snippet_id': 'd5bbf1da0dba11ecb1e81171463288e9_15'}, {'title': 'Lyric Theater (Miami)', 'fact': 'Opening in 1913, the Lyric Theater quickly became a major entertainment center for blacks in Miami. The 400-seat theater was built, owned and operated by Geder Walker, a black man from Georgia.', 'url': 'https://en.wikipedia.org/wiki/Lyric_Theater_(Miami)', 'snippet_id': 'd5bbf1da0dba11ecb1e81171463288e9_2'}, {'title': 'Miller Symphony Hall', 'fact': 'Gernert believed that a cinema-only theater would be extremely profitable, and if it were owned by someone who worked for the Lyric, there would be no conflict of interest as the Lyric could continue to present stage shows. The Orpheum Theater, located next to the Lyric at Sixth and Linden, was primarily a vaudeville theater.', 'url': 'https://en.wikipedia.org/wiki/Miller_Symphony_Hall', 'snippet_id': 'd5bbf1da0dba11ecb1e81171463288e9_5'}, {'title': 'Lyric Theater (Miami)', 'fact': 'Built in 1913, the Lyric Theater quickly became a major entertainment center for blacks in Miami. The 400-seat theater was built, owned and operated by Geder Walker, an enterprising Georgian who came to Miami prior to 1900.', 'url': 'https://en.wikipedia.org/wiki/Lyric_Theater_(Miami)', 'snippet_id': 'd5bbf1da0dba11ecb1e81171463288e9_8'}, {'title': 'Miller Symphony Hall', 'fact': 'Close to the Lyric at 35 North Sixth was the Orpheum Theater, which opened in 1906. While the Lyric presented primarily stage plays, the Orpheum was the first major vaudeville theater in Allentown.  ', 'url': 'https://en.wikipedia.org/wiki/Miller_Symphony_Hall', 'snippet_id': 'd5bbf1da0dba11ecb1e81171463288e9_7'}, {'title': 'Lyric Theater (Miami)', 'fact': 'In 1915, The Miami News described the Lyric Theater as, \"possibly the most beautiful and costly playhouse owned by Colored people in all the Southland.\"', 'url': 'https://en.wikipedia.org/wiki/Lyric_Theater_(Miami)', 'snippet_id': 'd5bbf1da0dba11ecb1e81171463288e9_1'}, {'title': 'Road signs in the United Kingdom', 'fact': 'Where the word \"local\" is not shown, the lane may be used by any vehicle designed to carry more than eight passengers, excluding the driver, and local buses. Solo motorcycles may use the lane where the motorcycle symbol is shown on the signs.', 'url': 'https://en.wikipedia.org/wiki/Road_signs_in_the_United_Kingdom', 'snippet_id': 'd5bbf1da0dba11ecb1e81171463288e9_0'}, {'title': 'Lyric Theater (Miami)', 'fact': 'Phase 3, expansion of the Lyric Theater, is currently underway and includes construction of: a studio theater/meeting space, additional wing space and a fly loft for the stage, a catering kitchen, a loading dock, a scene shop, archival administration offices, exhibition space, and other backstage operational areas.', 'url': 'https://en.wikipedia.org/wiki/Lyric_Theater_(Miami)', 'snippet_id': 'd5bbf1da0dba11ecb1e81171463288e9_11'}, {'title': 'Lyric Theater (Miami)', 'fact': 'The Lyric continued to operate as a movie theater until 1959 when it became a church of the General Assembly of the Church of the Lord Jesus Christ of the Apostolic Faith. When Overtown began to deteriorate in the 1960s, the Lyric Theater closed and remained shut for decades.', 'url': 'https://en.wikipedia.org/wiki/Lyric_Theater_(Miami)', 'snippet_id': 'd5bbf1da0dba11ecb1e81171463288e9_12'}, {'title': 'Lyric Theater (Miami)', 'fact': 'By 1989, the theater, the lone surviving building in Little Broadway, was listed in the National Register of Historic Places, and Phase 1 of restoration of the former showplace began. In 2000, after extensive rehabilitation, the restored Lyric Theater opened to audiences.', 'url': 'https://en.wikipedia.org/wiki/Lyric_Theater_(Miami)', 'snippet_id': 'd5bbf1da0dba11ecb1e81171463288e9_3'}, {'title': 'Lyric Theater (Miami)', 'fact': 'The Black Archives, History and Research Foundation of South Florida, Inc. acquired the Lyric Theater in 1988. By 1989, the theater, the lone surviving building in Little Broadway, was listed in the National Register of Historic Places, and Phase 1 of restoration of the former showplace began.', 'url': 'https://en.wikipedia.org/wiki/Lyric_Theater_(Miami)', 'snippet_id': 'd5bbf1da0dba11ecb1e81171463288e9_4'}, {'title': 'Lyric Theater (Miami)', 'fact': 'Renamed the Black Archives Historic Lyric Theater Cultural Arts Complex, it is now the oldest legitimate theater in Miami. Adjacent to the central downtown business district of Miami, it is an anchor site of the Historic Overtown Folklife Village.', 'url': 'https://en.wikipedia.org/wiki/Lyric_Theater_(Miami)', 'snippet_id': 'd5bbf1da0dba11ecb1e81171463288e9_6'}, {'title': 'Miller Symphony Hall', 'fact': 'Gernert believed that a cinema-only theater would be extremely profitable, and if it were owned by someone who worked for the Lyric, there would be no conflict of interest as the Lyric could continue to present stage shows.', 'url': 'https://en.wikipedia.org/wiki/Miller_Symphony_Hall', 'snippet_id': 'd5bbf1da0dba11ecb1e81171463288e9_13'}, {'title': 'Save The Cinema', 'fact': 'Liz Evans is a hairdresser and leader of a youth theater in Carmarthen, Wales, who started a campaign in 1993 to save the Lyric theater from closure.', 'url': 'https://en.wikipedia.org/wiki/Save_The_Cinema', 'snippet_id': 'd5bbf1da0dba11ecb1e81171463288e9_14'}, {'title': 'Miller Symphony Hall', 'fact': 'Seeing the Lyric for sale, they approached Hirst Enterprises to buy the Lyric. However, just before the sale to Park & Shop completed, Donald and Sam Miller, the owners of The Morning Call, offered to buy the theater from Hirst Enterprises.', 'url': 'https://en.wikipedia.org/wiki/Miller_Symphony_Hall', 'snippet_id': 'd5bbf1da0dba11ecb1e81171463288e9_9'}, {'title': 'Miller Symphony Hall', 'fact': 'The Lyric, although primarily a stage theater, was adapted to show silent films to entertain the troops that came into the city for recreation.', 'url': 'https://en.wikipedia.org/wiki/Miller_Symphony_Hall', 'snippet_id': 'd5bbf1da0dba11ecb1e81171463288e9_10'}], 'txt_posFacts': []}\n"
     ]
    }
   ],
   "source": [
    "count = 0\n",
    "for id, d in val_data.items():\n",
    "    if len(d['img_posFacts']) > 1:\n",
    "        count += 1\n",
    "        print(d)\n",
    "        if count > 2:\n",
    "            break"
   ]
  },
  {
   "cell_type": "code",
   "execution_count": 8,
   "metadata": {},
   "outputs": [
    {
     "name": "stdout",
     "output_type": "stream",
     "text": [
      "Loaded LLaVA model: lmms-lab/llava-onevision-qwen2-7b-ov\n"
     ]
    },
    {
     "name": "stderr",
     "output_type": "stream",
     "text": [
      "Special tokens have been added in the vocabulary, make sure the associated word embeddings are fine-tuned or trained.\n",
      "You are using a model of type llava to instantiate a model of type llava_qwen. This is not supported for all configurations of models and can yield errors.\n",
      "The `load_in_4bit` and `load_in_8bit` arguments are deprecated and will be removed in the future versions. Please, pass a `BitsAndBytesConfig` object in `quantization_config` argument instead.\n"
     ]
    },
    {
     "name": "stdout",
     "output_type": "stream",
     "text": [
      "Overwriting config with {'image_aspect_ratio': 'pad'}\n"
     ]
    },
    {
     "name": "stderr",
     "output_type": "stream",
     "text": [
      "Downloading shards: 100%|██████████| 4/4 [01:14<00:00, 18.59s/it]\n"
     ]
    },
    {
     "name": "stdout",
     "output_type": "stream",
     "text": [
      "Loading vision tower: google/siglip-so400m-patch14-384\n"
     ]
    },
    {
     "name": "stderr",
     "output_type": "stream",
     "text": [
      "Loading checkpoint shards: 100%|██████████| 4/4 [01:08<00:00, 17.23s/it]\n"
     ]
    },
    {
     "name": "stdout",
     "output_type": "stream",
     "text": [
      "Model Class: LlavaQwenForCausalLM\n"
     ]
    },
    {
     "data": {
      "text/plain": [
       "LlavaQwenForCausalLM(\n",
       "  (model): LlavaQwenModel(\n",
       "    (embed_tokens): Embedding(151647, 3584)\n",
       "    (layers): ModuleList(\n",
       "      (0-27): 28 x Qwen2DecoderLayer(\n",
       "        (self_attn): Qwen2FlashAttention2(\n",
       "          (q_proj): Linear8bitLt(in_features=3584, out_features=3584, bias=True)\n",
       "          (k_proj): Linear8bitLt(in_features=3584, out_features=512, bias=True)\n",
       "          (v_proj): Linear8bitLt(in_features=3584, out_features=512, bias=True)\n",
       "          (o_proj): Linear8bitLt(in_features=3584, out_features=3584, bias=False)\n",
       "          (rotary_emb): Qwen2RotaryEmbedding()\n",
       "        )\n",
       "        (mlp): Qwen2MLP(\n",
       "          (gate_proj): Linear8bitLt(in_features=3584, out_features=18944, bias=False)\n",
       "          (up_proj): Linear8bitLt(in_features=3584, out_features=18944, bias=False)\n",
       "          (down_proj): Linear8bitLt(in_features=18944, out_features=3584, bias=False)\n",
       "          (act_fn): SiLU()\n",
       "        )\n",
       "        (input_layernorm): Qwen2RMSNorm()\n",
       "        (post_attention_layernorm): Qwen2RMSNorm()\n",
       "      )\n",
       "    )\n",
       "    (norm): Qwen2RMSNorm()\n",
       "    (vision_tower): SigLipVisionTower(\n",
       "      (vision_tower): SigLipVisionModel(\n",
       "        (vision_model): SigLipVisionTransformer(\n",
       "          (embeddings): SigLipVisionEmbeddings(\n",
       "            (patch_embedding): Conv2d(3, 1152, kernel_size=(14, 14), stride=(14, 14), padding=valid)\n",
       "            (position_embedding): Embedding(729, 1152)\n",
       "          )\n",
       "          (encoder): SigLipEncoder(\n",
       "            (layers): ModuleList(\n",
       "              (0-25): 26 x SigLipEncoderLayer(\n",
       "                (self_attn): SigLipAttention(\n",
       "                  (k_proj): Linear8bitLt(in_features=1152, out_features=1152, bias=True)\n",
       "                  (v_proj): Linear8bitLt(in_features=1152, out_features=1152, bias=True)\n",
       "                  (q_proj): Linear8bitLt(in_features=1152, out_features=1152, bias=True)\n",
       "                  (out_proj): Linear8bitLt(in_features=1152, out_features=1152, bias=True)\n",
       "                )\n",
       "                (layer_norm1): LayerNorm((1152,), eps=1e-06, elementwise_affine=True)\n",
       "                (mlp): SigLipMLP(\n",
       "                  (activation_fn): PytorchGELUTanh()\n",
       "                  (fc1): Linear8bitLt(in_features=1152, out_features=4304, bias=True)\n",
       "                  (fc2): Linear8bitLt(in_features=4304, out_features=1152, bias=True)\n",
       "                )\n",
       "                (layer_norm2): LayerNorm((1152,), eps=1e-06, elementwise_affine=True)\n",
       "              )\n",
       "            )\n",
       "          )\n",
       "          (post_layernorm): LayerNorm((1152,), eps=1e-06, elementwise_affine=True)\n",
       "          (head): Identity()\n",
       "        )\n",
       "      )\n",
       "    )\n",
       "    (vision_resampler): IdentityMap()\n",
       "    (mm_projector): Sequential(\n",
       "      (0): Linear8bitLt(in_features=1152, out_features=3584, bias=True)\n",
       "      (1): GELU(approximate='none')\n",
       "      (2): Linear8bitLt(in_features=3584, out_features=3584, bias=True)\n",
       "    )\n",
       "  )\n",
       "  (lm_head): Linear(in_features=3584, out_features=151647, bias=False)\n",
       ")"
      ]
     },
     "execution_count": 8,
     "metadata": {},
     "output_type": "execute_result"
    }
   ],
   "source": [
    "## Load model\n",
    "# pretrained = \"lmms-lab/llava-onevision-qwen2-0.5b-ov\"\n",
    "pretrained = \"lmms-lab/llava-onevision-qwen2-7b-ov\"\n",
    "model_name = \"llava_qwen\"\n",
    "device = \"cuda\"\n",
    "device_map = \"auto\"\n",
    "llava_model_args = {\n",
    "        \"multimodal\": True,\n",
    "    }\n",
    "overwrite_config = {}\n",
    "overwrite_config[\"image_aspect_ratio\"] = \"pad\"\n",
    "llava_model_args[\"overwrite_config\"] = overwrite_config\n",
    "tokenizer, model, image_processor, max_length = load_pretrained_model(pretrained, None, model_name, device_map=device_map, load_8bit=True, **llava_model_args)\n",
    "\n",
    "model.eval()"
   ]
  },
  {
   "cell_type": "code",
   "execution_count": 27,
   "metadata": {},
   "outputs": [
    {
     "name": "stdout",
     "output_type": "stream",
     "text": [
      "<|im_start|>system\n",
      "You are a helpful assistant.<|im_end|>\n",
      "<|im_start|>user\n",
      "<image> You have to answer a question about this image\n",
      "Title: 2020-05-08 15 17 05 Minnetonka Rhododendron flower along Tranquility Court in the Franklin Farm section of Oak Hill, Fairfax County, Virginia\n",
      "Caption: 2020-05-08 15 17 05 Minnetonka Rhododendron flower along Tranquility Court in the Franklin Farm section of Oak Hill, Fairfax County, Virginia Minnetonka Rhododendron flower along Tranquility Court in the Franklin Farm section of Oak Hill, Fairfax County, Virginia\n",
      " Think deeply and respond with the correct answer to the following question in a complete sentence. Question: \"Does a Minnetonka Rhododendron flower have petals in a cup shape?\"<|im_end|>\n",
      "<|im_start|>assistant\n",
      "\n",
      "Ques: \"Does a Minnetonka Rhododendron flower have petals in a cup shape?\"\n",
      "Assistant: Yes, a Minnetonka Rhododendron flower has petals in a cup shape.\n",
      "GT: \"No, a Minnetonka Rhododendron flower does not have petals in a cup shape.\"\n",
      "\n",
      "<|im_start|>system\n",
      "You are a helpful assistant.<|im_end|>\n",
      "<|im_start|>user\n",
      "<image> You have to answer a question about this image\n",
      "Title: Torre del Reloj de la Plaza Colón de Antofagasta (1)\n",
      "Caption: Torre del Reloj de la Plaza Colón de Antofagasta (1)\n",
      " Think deeply and respond with the correct answer to the following question in a complete sentence. Question: \"What water-related object is sitting in front of the Torre del Reloj?\"<|im_end|>\n",
      "<|im_start|>assistant\n",
      "\n",
      "Ques: \"What water-related object is sitting in front of the Torre del Reloj?\"\n",
      "Assistant: A fountain is sitting in front of the Torre del Reloj.\n",
      "GT: \"A fountain is sitting in front of the Torre del Reloj.\"\n",
      "\n",
      "<|im_start|>system\n",
      "You are a helpful assistant.<|im_end|>\n",
      "<|im_start|>user\n",
      "<image> You have to answer a question about this image\n",
      "Title: Salou boulevard\n",
      "Caption: Salou boulevard\n",
      " Think deeply and respond with the correct answer to the following question in a complete sentence. Question: \"What shapes are painted down the center of Salou Boulevard?\"<|im_end|>\n",
      "<|im_start|>assistant\n",
      "\n",
      "Ques: \"What shapes are painted down the center of Salou Boulevard?\"\n",
      "Assistant: Blue circles\n",
      "GT: \"Blue footprints are painted down the center of Salou Boulevard.\"\n",
      "\n",
      "<|im_start|>system\n",
      "You are a helpful assistant.<|im_end|>\n",
      "<|im_start|>user\n",
      "<image> You have to answer a question about this image\n",
      "Title: Mid-Hudson Bridge 2010-03-07\n",
      "Caption: Mid-Hudson Bridge 2010-03-07  The Mid-Hudson Bridge, spanning the Hudson River between Poughkeepsie and Highland.\n",
      " Think deeply and respond with the correct answer to the following question in a complete sentence. Question: \"Are there sidewalks on both sides of the Mid-Hudson Bridge?\"<|im_end|>\n",
      "<|im_start|>assistant\n",
      "\n",
      "Ques: \"Are there sidewalks on both sides of the Mid-Hudson Bridge?\"\n",
      "Assistant: No, there are not sidewalks on both sides of the Mid-Hudson Bridge.\n",
      "GT: \"Yes, there are sidewalks on both sides of the Mid-Hudson Bridge.\"\n",
      "\n",
      "<|im_start|>system\n",
      "You are a helpful assistant.<|im_end|>\n",
      "<|im_start|>user\n",
      "<image> You have to answer a question about this image\n",
      "Title: Hotel al codega san marco venezia\n",
      "Caption: Hotel al codega san marco venezia\n",
      " Think deeply and respond with the correct answer to the following question in a complete sentence. Question: \"What color flowers were displayed outside of the Hotel al codega san marco venezia in June of 2011?\"<|im_end|>\n",
      "<|im_start|>assistant\n",
      "\n",
      "Ques: \"What color flowers were displayed outside of the Hotel al codega san marco venezia in June of 2011?\"\n",
      "Assistant: The flowers displayed outside of the Hotel al codega san marco in June of 2011 were red.\n",
      "GT: \"There were red flowers outside the hotel.\"\n",
      "\n",
      "<|im_start|>system\n",
      "You are a helpful assistant.<|im_end|>\n",
      "<|im_start|>user\n",
      "<image> You have to answer a question about this image\n",
      "Title: The Glass House, Fulham 05\n",
      "Caption: The Glass House, Fulham 05  The Glass House, Fulham\n",
      " Think deeply and respond with the correct answer to the following question in a complete sentence. Question: \"Is the fence in front of The Glass House in Fulham taller or shorter than a bicycle?\"<|im_end|>\n",
      "<|im_start|>assistant\n",
      "\n",
      "Ques: \"Is the fence in front of The Glass House in Fulham taller or shorter than a bicycle?\"\n",
      "Assistant: The fence in front of The Glass House in Fulham is taller than a bicycle.\n",
      "GT: \"The fence in font of the building is taller than a typical bicycle.\"\n",
      "\n",
      "<|im_start|>system\n",
      "You are a helpful assistant.<|im_end|>\n",
      "<|im_start|>user\n",
      "<image> You have to answer a question about this image\n",
      "Title: Iranian family,gathered together wearing traditional clothes - Nishapur - Nowruz2014\n",
      "Caption: Iranian family,gathered together wearing traditional clothes - Nishapur - Nowruz2014  Iranian family,gathered together wearing traditional clothes\n",
      " Think deeply and respond with the correct answer to the following question in a complete sentence. Question: \"Are the heads of Iranian women covered in traditional clothing?\"<|im_end|>\n",
      "<|im_start|>assistant\n",
      "\n",
      "Ques: \"Are the heads of Iranian women covered in traditional clothing?\"\n",
      "Assistant: Yes, the heads of Iranian women are covered in traditional clothing.\n",
      "GT: \"The heads of Iranian women are covered when they're in traditional clothing.\"\n",
      "\n",
      "<|im_start|>system\n",
      "You are a helpful assistant.<|im_end|>\n",
      "<|im_start|>user\n",
      "<image> You have to answer a question about this image\n",
      "Title: Ballard Fest 2006 5\n",
      "Caption: Ballard Fest 2006 5\n",
      " Think deeply and respond with the correct answer to the following question in a complete sentence. Question: \"What colors were the tent for the Ballard Chamber of Commerce Salmon Barbecue at Ballard Fest in 2006?\"<|im_end|>\n",
      "<|im_start|>assistant\n",
      "\n",
      "Ques: \"What colors were the tent for the Ballard Chamber of Commerce Salmon Barbecue at Ballard Fest in 2006?\"\n",
      "Assistant: The tent for the Ballard Chamber of Commerce Salmon Barbecue at Ballard Fest in 2006 was blue and white.\n",
      "GT: \"The tent for the Ballard Chamber of Commerce Salmon Barbecue at Ballard Fest in 2006 was blue and white.\"\n",
      "\n",
      "<|im_start|>system\n",
      "You are a helpful assistant.<|im_end|>\n",
      "<|im_start|>user\n",
      "<image> You have to answer a question about this image\n",
      "Title: Fenchurch Street railway station, September 2014 (2)\n",
      "Caption: Fenchurch Street railway station, September 2014 (2)  Fenchurch Street railway station is today the terminus of the London, Tilbury and Southend Railway, and was originally built by the London and Blackwall Railway.\n",
      " Think deeply and respond with the correct answer to the following question in a complete sentence. Question: \"Where is the clock on the front of the Fenchurch Street station with respect to the rest of the building?\"<|im_end|>\n",
      "<|im_start|>assistant\n",
      "\n",
      "Ques: \"Where is the clock on the front of the Fenchurch Street station with respect to the rest of the building?\"\n",
      "Assistant: The clock is centered on the front of the Fenchurch Street station.\n",
      "GT: \"The clock on the front of the Fenchurch Street station is on the top and middle of the building.\"\n",
      "\n",
      "<|im_start|>system\n",
      "You are a helpful assistant.<|im_end|>\n",
      "<|im_start|>user\n",
      "<image> This is the first image.\n",
      "Title: Western Cottage pump organ\n",
      "Caption: Western Cottage pump organ\n",
      "\n",
      "Now, let's look at another image: <image> Title: Wurlitzer Model 44 Electrostatic Reed Organ.png\n",
      "Caption: Wurlitzer Model 44 Electrostatic Reed Organ.png\n",
      "Respond with the correct answer to the following question in a complete sentence. Question: \"On which organ, are more round visible stop knobs installed; Western Cottage pump organ or Wurlitzer Model 44 Electrostatic Reed Organ?\"<|im_end|>\n",
      "<|im_start|>assistant\n",
      "\n",
      "Ques: \"On which organ, are more round visible stop knobs installed; Western Cottage pump organ or Wurlitzer Model 44 Electrostatic Reed Organ?\"\n",
      "Assistant: The Western Cottage pump organ has more round visible stop knobs installed.\n",
      "GT: \"The Western Cottage pump organ has more round visible stop knobs installed compared to the Wurlitzer Model 44 Electrostatic Reed Organ.\"\n",
      "\n"
     ]
    }
   ],
   "source": [
    "count = 0\n",
    "for id,d in val_data.items():\n",
    "    count += 1\n",
    "    ans = get_answer(d, model, image_processor, tokenizer, max_length, device)\n",
    "    print(f\"Ques: {d['Q']}\\nAssistant: {ans}\\nGT: {d['A'][0]}\\n\")\n",
    "    if count == 10:\n",
    "        break"
   ]
  },
  {
   "cell_type": "code",
   "execution_count": 19,
   "metadata": {},
   "outputs": [
    {
     "data": {
      "text/plain": [
       "\"<|im_start|>system\\nYou are a helpful assistant.<|im_end|>\\n<|im_start|>user\\n<image> This is the first image. Title: Wurlitzer Model 44 Electrostatic Reed Organ\\n\\nNow, let's look at another image: <image> Title: Wurlitzer Model 44 Electrostatic Reed Organ.png\\nQ: On which organ, are more round visible stop knobs installed; Western Cottage pump organ or Wurlitzer Model 44 Electrostatic Reed Organ? Respond with the correct answer in a complete sentence.<|im_end|>\\n<|im_start|>assistant\\n\""
      ]
     },
     "execution_count": 19,
     "metadata": {},
     "output_type": "execute_result"
    }
   ],
   "source": [
    "prompt_question"
   ]
  },
  {
   "cell_type": "code",
   "execution_count": null,
   "metadata": {},
   "outputs": [],
   "source": []
  }
 ],
 "metadata": {
  "kernelspec": {
   "display_name": "llavanext",
   "language": "python",
   "name": "python3"
  },
  "language_info": {
   "codemirror_mode": {
    "name": "ipython",
    "version": 3
   },
   "file_extension": ".py",
   "mimetype": "text/x-python",
   "name": "python",
   "nbconvert_exporter": "python",
   "pygments_lexer": "ipython3",
   "version": "3.10.15"
  }
 },
 "nbformat": 4,
 "nbformat_minor": 2
}
